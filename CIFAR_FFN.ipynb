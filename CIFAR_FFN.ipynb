{
  "nbformat": 4,
  "nbformat_minor": 0,
  "metadata": {
    "colab": {
      "name": "CIFAR-FFN.ipynb",
      "provenance": []
    },
    "kernelspec": {
      "name": "python3",
      "display_name": "Python 3"
    },
    "accelerator": "GPU",
    "widgets": {
      "application/vnd.jupyter.widget-state+json": {
        "41f5d00d342a4b87bad2ac711bb2fc2b": {
          "model_module": "@jupyter-widgets/controls",
          "model_name": "HBoxModel",
          "state": {
            "_view_name": "HBoxView",
            "_dom_classes": [],
            "_model_name": "HBoxModel",
            "_view_module": "@jupyter-widgets/controls",
            "_model_module_version": "1.5.0",
            "_view_count": null,
            "_view_module_version": "1.5.0",
            "box_style": "",
            "layout": "IPY_MODEL_36791bd8ac014a0687f531e9eb2534f6",
            "_model_module": "@jupyter-widgets/controls",
            "children": [
              "IPY_MODEL_cfb2a38978144fc6b9ad0281b5126042",
              "IPY_MODEL_77ad8e2f611241c597dd54ec0ecfb175"
            ]
          }
        },
        "36791bd8ac014a0687f531e9eb2534f6": {
          "model_module": "@jupyter-widgets/base",
          "model_name": "LayoutModel",
          "state": {
            "_view_name": "LayoutView",
            "grid_template_rows": null,
            "right": null,
            "justify_content": null,
            "_view_module": "@jupyter-widgets/base",
            "overflow": null,
            "_model_module_version": "1.2.0",
            "_view_count": null,
            "flex_flow": null,
            "width": null,
            "min_width": null,
            "border": null,
            "align_items": null,
            "bottom": null,
            "_model_module": "@jupyter-widgets/base",
            "top": null,
            "grid_column": null,
            "overflow_y": null,
            "overflow_x": null,
            "grid_auto_flow": null,
            "grid_area": null,
            "grid_template_columns": null,
            "flex": null,
            "_model_name": "LayoutModel",
            "justify_items": null,
            "grid_row": null,
            "max_height": null,
            "align_content": null,
            "visibility": null,
            "align_self": null,
            "height": null,
            "min_height": null,
            "padding": null,
            "grid_auto_rows": null,
            "grid_gap": null,
            "max_width": null,
            "order": null,
            "_view_module_version": "1.2.0",
            "grid_template_areas": null,
            "object_position": null,
            "object_fit": null,
            "grid_auto_columns": null,
            "margin": null,
            "display": null,
            "left": null
          }
        },
        "cfb2a38978144fc6b9ad0281b5126042": {
          "model_module": "@jupyter-widgets/controls",
          "model_name": "IntProgressModel",
          "state": {
            "_view_name": "ProgressView",
            "style": "IPY_MODEL_04b926e27d8749d999f658302383ab1f",
            "_dom_classes": [],
            "description": "",
            "_model_name": "IntProgressModel",
            "bar_style": "success",
            "max": 40,
            "_view_module": "@jupyter-widgets/controls",
            "_model_module_version": "1.5.0",
            "value": 40,
            "_view_count": null,
            "_view_module_version": "1.5.0",
            "orientation": "horizontal",
            "min": 0,
            "description_tooltip": null,
            "_model_module": "@jupyter-widgets/controls",
            "layout": "IPY_MODEL_78bcfd387ec34bd69a88aff7646c5771"
          }
        },
        "77ad8e2f611241c597dd54ec0ecfb175": {
          "model_module": "@jupyter-widgets/controls",
          "model_name": "HTMLModel",
          "state": {
            "_view_name": "HTMLView",
            "style": "IPY_MODEL_a8aeebc7588347769342850b454c04ce",
            "_dom_classes": [],
            "description": "",
            "_model_name": "HTMLModel",
            "placeholder": "​",
            "_view_module": "@jupyter-widgets/controls",
            "_model_module_version": "1.5.0",
            "value": "100% 40/40 [00:16&lt;00:00,  2.31it/s]",
            "_view_count": null,
            "_view_module_version": "1.5.0",
            "description_tooltip": null,
            "_model_module": "@jupyter-widgets/controls",
            "layout": "IPY_MODEL_e951878981354b5aa6abc241d574ed68"
          }
        },
        "04b926e27d8749d999f658302383ab1f": {
          "model_module": "@jupyter-widgets/controls",
          "model_name": "ProgressStyleModel",
          "state": {
            "_view_name": "StyleView",
            "_model_name": "ProgressStyleModel",
            "description_width": "",
            "_view_module": "@jupyter-widgets/base",
            "_model_module_version": "1.5.0",
            "_view_count": null,
            "_view_module_version": "1.2.0",
            "bar_color": null,
            "_model_module": "@jupyter-widgets/controls"
          }
        },
        "78bcfd387ec34bd69a88aff7646c5771": {
          "model_module": "@jupyter-widgets/base",
          "model_name": "LayoutModel",
          "state": {
            "_view_name": "LayoutView",
            "grid_template_rows": null,
            "right": null,
            "justify_content": null,
            "_view_module": "@jupyter-widgets/base",
            "overflow": null,
            "_model_module_version": "1.2.0",
            "_view_count": null,
            "flex_flow": null,
            "width": null,
            "min_width": null,
            "border": null,
            "align_items": null,
            "bottom": null,
            "_model_module": "@jupyter-widgets/base",
            "top": null,
            "grid_column": null,
            "overflow_y": null,
            "overflow_x": null,
            "grid_auto_flow": null,
            "grid_area": null,
            "grid_template_columns": null,
            "flex": null,
            "_model_name": "LayoutModel",
            "justify_items": null,
            "grid_row": null,
            "max_height": null,
            "align_content": null,
            "visibility": null,
            "align_self": null,
            "height": null,
            "min_height": null,
            "padding": null,
            "grid_auto_rows": null,
            "grid_gap": null,
            "max_width": null,
            "order": null,
            "_view_module_version": "1.2.0",
            "grid_template_areas": null,
            "object_position": null,
            "object_fit": null,
            "grid_auto_columns": null,
            "margin": null,
            "display": null,
            "left": null
          }
        },
        "a8aeebc7588347769342850b454c04ce": {
          "model_module": "@jupyter-widgets/controls",
          "model_name": "DescriptionStyleModel",
          "state": {
            "_view_name": "StyleView",
            "_model_name": "DescriptionStyleModel",
            "description_width": "",
            "_view_module": "@jupyter-widgets/base",
            "_model_module_version": "1.5.0",
            "_view_count": null,
            "_view_module_version": "1.2.0",
            "_model_module": "@jupyter-widgets/controls"
          }
        },
        "e951878981354b5aa6abc241d574ed68": {
          "model_module": "@jupyter-widgets/base",
          "model_name": "LayoutModel",
          "state": {
            "_view_name": "LayoutView",
            "grid_template_rows": null,
            "right": null,
            "justify_content": null,
            "_view_module": "@jupyter-widgets/base",
            "overflow": null,
            "_model_module_version": "1.2.0",
            "_view_count": null,
            "flex_flow": null,
            "width": null,
            "min_width": null,
            "border": null,
            "align_items": null,
            "bottom": null,
            "_model_module": "@jupyter-widgets/base",
            "top": null,
            "grid_column": null,
            "overflow_y": null,
            "overflow_x": null,
            "grid_auto_flow": null,
            "grid_area": null,
            "grid_template_columns": null,
            "flex": null,
            "_model_name": "LayoutModel",
            "justify_items": null,
            "grid_row": null,
            "max_height": null,
            "align_content": null,
            "visibility": null,
            "align_self": null,
            "height": null,
            "min_height": null,
            "padding": null,
            "grid_auto_rows": null,
            "grid_gap": null,
            "max_width": null,
            "order": null,
            "_view_module_version": "1.2.0",
            "grid_template_areas": null,
            "object_position": null,
            "object_fit": null,
            "grid_auto_columns": null,
            "margin": null,
            "display": null,
            "left": null
          }
        },
        "7c9ec0346444481e8d754fb6c99628b1": {
          "model_module": "@jupyter-widgets/controls",
          "model_name": "HBoxModel",
          "state": {
            "_view_name": "HBoxView",
            "_dom_classes": [],
            "_model_name": "HBoxModel",
            "_view_module": "@jupyter-widgets/controls",
            "_model_module_version": "1.5.0",
            "_view_count": null,
            "_view_module_version": "1.5.0",
            "box_style": "",
            "layout": "IPY_MODEL_0e636a619e574d13b8a38a3b221a189b",
            "_model_module": "@jupyter-widgets/controls",
            "children": [
              "IPY_MODEL_fb173aac84b448cba98ed23ac2b57e84",
              "IPY_MODEL_62dade708de54f8eae5b382a7cb81fcb"
            ]
          }
        },
        "0e636a619e574d13b8a38a3b221a189b": {
          "model_module": "@jupyter-widgets/base",
          "model_name": "LayoutModel",
          "state": {
            "_view_name": "LayoutView",
            "grid_template_rows": null,
            "right": null,
            "justify_content": null,
            "_view_module": "@jupyter-widgets/base",
            "overflow": null,
            "_model_module_version": "1.2.0",
            "_view_count": null,
            "flex_flow": null,
            "width": null,
            "min_width": null,
            "border": null,
            "align_items": null,
            "bottom": null,
            "_model_module": "@jupyter-widgets/base",
            "top": null,
            "grid_column": null,
            "overflow_y": null,
            "overflow_x": null,
            "grid_auto_flow": null,
            "grid_area": null,
            "grid_template_columns": null,
            "flex": null,
            "_model_name": "LayoutModel",
            "justify_items": null,
            "grid_row": null,
            "max_height": null,
            "align_content": null,
            "visibility": null,
            "align_self": null,
            "height": null,
            "min_height": null,
            "padding": null,
            "grid_auto_rows": null,
            "grid_gap": null,
            "max_width": null,
            "order": null,
            "_view_module_version": "1.2.0",
            "grid_template_areas": null,
            "object_position": null,
            "object_fit": null,
            "grid_auto_columns": null,
            "margin": null,
            "display": null,
            "left": null
          }
        },
        "fb173aac84b448cba98ed23ac2b57e84": {
          "model_module": "@jupyter-widgets/controls",
          "model_name": "IntProgressModel",
          "state": {
            "_view_name": "ProgressView",
            "style": "IPY_MODEL_0384ebf3638d470fb6675cf087484891",
            "_dom_classes": [],
            "description": "",
            "_model_name": "IntProgressModel",
            "bar_style": "success",
            "max": 2,
            "_view_module": "@jupyter-widgets/controls",
            "_model_module_version": "1.5.0",
            "value": 2,
            "_view_count": null,
            "_view_module_version": "1.5.0",
            "orientation": "horizontal",
            "min": 0,
            "description_tooltip": null,
            "_model_module": "@jupyter-widgets/controls",
            "layout": "IPY_MODEL_93c614ee97774baf8fa33f7a6df1f755"
          }
        },
        "62dade708de54f8eae5b382a7cb81fcb": {
          "model_module": "@jupyter-widgets/controls",
          "model_name": "HTMLModel",
          "state": {
            "_view_name": "HTMLView",
            "style": "IPY_MODEL_57dfa5cda5614de09c95b014f9bfada6",
            "_dom_classes": [],
            "description": "",
            "_model_name": "HTMLModel",
            "placeholder": "​",
            "_view_module": "@jupyter-widgets/controls",
            "_model_module_version": "1.5.0",
            "value": "100% 2/2 [00:00&lt;00:00, 29.39it/s]",
            "_view_count": null,
            "_view_module_version": "1.5.0",
            "description_tooltip": null,
            "_model_module": "@jupyter-widgets/controls",
            "layout": "IPY_MODEL_d8892ae1145d4922b448bdb8f33fbd39"
          }
        },
        "0384ebf3638d470fb6675cf087484891": {
          "model_module": "@jupyter-widgets/controls",
          "model_name": "ProgressStyleModel",
          "state": {
            "_view_name": "StyleView",
            "_model_name": "ProgressStyleModel",
            "description_width": "",
            "_view_module": "@jupyter-widgets/base",
            "_model_module_version": "1.5.0",
            "_view_count": null,
            "_view_module_version": "1.2.0",
            "bar_color": null,
            "_model_module": "@jupyter-widgets/controls"
          }
        },
        "93c614ee97774baf8fa33f7a6df1f755": {
          "model_module": "@jupyter-widgets/base",
          "model_name": "LayoutModel",
          "state": {
            "_view_name": "LayoutView",
            "grid_template_rows": null,
            "right": null,
            "justify_content": null,
            "_view_module": "@jupyter-widgets/base",
            "overflow": null,
            "_model_module_version": "1.2.0",
            "_view_count": null,
            "flex_flow": null,
            "width": null,
            "min_width": null,
            "border": null,
            "align_items": null,
            "bottom": null,
            "_model_module": "@jupyter-widgets/base",
            "top": null,
            "grid_column": null,
            "overflow_y": null,
            "overflow_x": null,
            "grid_auto_flow": null,
            "grid_area": null,
            "grid_template_columns": null,
            "flex": null,
            "_model_name": "LayoutModel",
            "justify_items": null,
            "grid_row": null,
            "max_height": null,
            "align_content": null,
            "visibility": null,
            "align_self": null,
            "height": null,
            "min_height": null,
            "padding": null,
            "grid_auto_rows": null,
            "grid_gap": null,
            "max_width": null,
            "order": null,
            "_view_module_version": "1.2.0",
            "grid_template_areas": null,
            "object_position": null,
            "object_fit": null,
            "grid_auto_columns": null,
            "margin": null,
            "display": null,
            "left": null
          }
        },
        "57dfa5cda5614de09c95b014f9bfada6": {
          "model_module": "@jupyter-widgets/controls",
          "model_name": "DescriptionStyleModel",
          "state": {
            "_view_name": "StyleView",
            "_model_name": "DescriptionStyleModel",
            "description_width": "",
            "_view_module": "@jupyter-widgets/base",
            "_model_module_version": "1.5.0",
            "_view_count": null,
            "_view_module_version": "1.2.0",
            "_model_module": "@jupyter-widgets/controls"
          }
        },
        "d8892ae1145d4922b448bdb8f33fbd39": {
          "model_module": "@jupyter-widgets/base",
          "model_name": "LayoutModel",
          "state": {
            "_view_name": "LayoutView",
            "grid_template_rows": null,
            "right": null,
            "justify_content": null,
            "_view_module": "@jupyter-widgets/base",
            "overflow": null,
            "_model_module_version": "1.2.0",
            "_view_count": null,
            "flex_flow": null,
            "width": null,
            "min_width": null,
            "border": null,
            "align_items": null,
            "bottom": null,
            "_model_module": "@jupyter-widgets/base",
            "top": null,
            "grid_column": null,
            "overflow_y": null,
            "overflow_x": null,
            "grid_auto_flow": null,
            "grid_area": null,
            "grid_template_columns": null,
            "flex": null,
            "_model_name": "LayoutModel",
            "justify_items": null,
            "grid_row": null,
            "max_height": null,
            "align_content": null,
            "visibility": null,
            "align_self": null,
            "height": null,
            "min_height": null,
            "padding": null,
            "grid_auto_rows": null,
            "grid_gap": null,
            "max_width": null,
            "order": null,
            "_view_module_version": "1.2.0",
            "grid_template_areas": null,
            "object_position": null,
            "object_fit": null,
            "grid_auto_columns": null,
            "margin": null,
            "display": null,
            "left": null
          }
        }
      }
    }
  },
  "cells": [
    {
      "cell_type": "markdown",
      "metadata": {
        "id": "NsvjieqtuRnx",
        "colab_type": "text"
      },
      "source": [
        "** **bold text**Task 1. Generating training dataset** \n",
        "\n",
        "Since logistic regression is a classification problem with two classes, we need a labelled dataset with two classes as the training set. Complete the function to obtain the datapoints corresponding to labels *'ship'* and *'car'*. \n",
        "\n",
        "steps to build a new dataset with these coditions: \n",
        "\n",
        "1. Loading the train and test sets of CIFAR 10 from torchvision using a batch size of 1024.\n",
        "2. Splitting the training samples by 80:20 ratio into train set and validation set respectively. \n",
        "3. Filtering the datasets to only have images with classes 'ship' or 'car'. The corresponding labels are 8 and 1 respectively.\n",
        "4. The new labels for binary classification problem should be 'ship' : 0 and 'car': 1.\n",
        "5. Define a [torch.utils.data.Dataset](https://pytorch.org/docs/stable/_modules/torch/utils/data/dataset.html) with the filtered tensors of images and the newly created labels.\n",
        "6. Define a dataloader for training and validation datasets with batch_size 64.\n",
        "\n"
      ]
    },
    {
      "cell_type": "code",
      "metadata": {
        "id": "MlZ6WVYBugBL",
        "colab_type": "code",
        "colab": {}
      },
      "source": [
        "# TODO : generate the train, validation, and test sets from CIFAR 10  \n",
        "import os\n",
        "import torch, torchvision\n",
        "import pandas as pd\n",
        "import numpy as np\n",
        "import matplotlib.pyplot as plt\n",
        "from torch.utils.data import Dataset, DataLoader, random_split\n",
        "from torchvision import utils, datasets\n",
        "from torch import nn,autograd\n",
        "from torch.autograd import Variable\n",
        "import warnings\n",
        "from collections import Counter\n",
        "from torch import FloatTensor\n",
        "from torch import optim\n",
        "from torchvision import transforms, utils, datasets\n",
        "\n",
        "import torch.nn.functional as F\n",
        "use_cuda = torch.cuda.is_available()\n",
        "warnings.filterwarnings(\"ignore\")\n",
        "\n"
      ],
      "execution_count": 0,
      "outputs": []
    },
    {
      "cell_type": "code",
      "metadata": {
        "id": "v54PSq9Eq87-",
        "colab_type": "code",
        "outputId": "73d3f7a1-a3c9-49c3-e2ee-baaf604fdc82",
        "colab": {
          "base_uri": "https://localhost:8080/",
          "height": 69
        }
      },
      "source": [
        "transform = transforms.Compose([\n",
        "    transforms.ToTensor(),\n",
        "    transforms.Normalize(mean=[0.485, 0.456, 0.406], std=[0.229, 0.224, 0.225]) #mean, std for Red, Green and Blue\n",
        "])\n",
        "train = datasets.CIFAR10(root='data/cifar/', train=True, transform=transform, target_transform=None, download=True)\n",
        "test =datasets.CIFAR10(root='data/cifar/', train=False, transform=transform, target_transform=None, download=True)"
      ],
      "execution_count": 12,
      "outputs": [
        {
          "output_type": "stream",
          "text": [
            "\r0it [00:00, ?it/s]"
          ],
          "name": "stderr"
        },
        {
          "output_type": "stream",
          "text": [
            "Downloading https://www.cs.toronto.edu/~kriz/cifar-10-python.tar.gz to data/cifar/cifar-10-python.tar.gz\n"
          ],
          "name": "stdout"
        },
        {
          "output_type": "stream",
          "text": [
            " 98%|█████████▊| 167387136/170498071 [00:11<00:00, 34861345.56it/s]"
          ],
          "name": "stderr"
        },
        {
          "output_type": "stream",
          "text": [
            "Extracting data/cifar/cifar-10-python.tar.gz to data/cifar/\n",
            "Files already downloaded and verified\n"
          ],
          "name": "stdout"
        }
      ]
    },
    {
      "cell_type": "code",
      "metadata": {
        "id": "Gn9k5T2fvLrz",
        "colab_type": "code",
        "colab": {}
      },
      "source": [
        "\n",
        "class TrainCIFARDataset(Dataset):\n",
        "    \n",
        "\n",
        "    def __init__(self, file):\n",
        "        self.file = self.filter_dataset(file)\n",
        "    \n",
        " \n",
        "    def __len__(self):\n",
        "        return len(self.file)\n",
        "    def __getitem__(self, idx):\n",
        "        return self.file[idx]\n",
        "\n",
        "    def replace_target_values(self ,t):\n",
        "        t = list(t)\n",
        "        targets = {8:0, 1:1}\n",
        "        t[1] = targets[t[1]]\n",
        "        return tuple(t)\n",
        "\n",
        "    def filter_dataset(self, data):\n",
        "        \"\"\"\n",
        "        filter the data to get only classes with ship and car, then replace the values of ships and car to 0,1\n",
        "        \"\"\"\n",
        "        targets = {8:0, 1:1}\n",
        "        filtered_ = [data[i] for i in range(len(data)) if data[i][1] in targets] \n",
        "        filtered_ = list(map(self.replace_target_values, filtered_)) \n",
        "        return filtered_\n",
        "\n",
        "class TestCIFARDataset(TrainCIFARDataset):\n",
        "    def __init__(self, file):\n",
        "        self.file = self.filter_dataset(file)\n",
        "    def __len__(self):\n",
        "        return len(self.file)\n",
        "\n",
        "    def __getitem__(self, idx):\n",
        "        return self.file[idx]\n"
      ],
      "execution_count": 0,
      "outputs": []
    },
    {
      "cell_type": "code",
      "metadata": {
        "id": "M8sGclaBq2Uy",
        "colab_type": "code",
        "colab": {
          "base_uri": "https://localhost:8080/",
          "height": 34
        },
        "outputId": "bd11326e-820a-4714-b5f7-1788eda3aad6"
      },
      "source": [
        "train_data = TrainCIFARDataset(train)\n",
        "train_loader = DataLoader(train_data, batch_size=1024)\n",
        "test_dataset = TestCIFARDataset(test)\n",
        "test_dataset = DataLoader(test_dataset, batch_size=1024)\n",
        "\n",
        "train_size = int(0.8 * len(train_data))\n",
        "test_size = len(train_data) - train_size\n",
        "\n",
        "\n",
        "train_dataset, val_dataset = random_split(train_data, [train_size, test_size])\n",
        "train_dataset, val_dataset = DataLoader(train_dataset, batch_size=64), DataLoader(val_dataset, batch_size= 64)"
      ],
      "execution_count": 14,
      "outputs": [
        {
          "output_type": "stream",
          "text": [
            "\r170500096it [00:30, 34861345.56it/s]                               "
          ],
          "name": "stderr"
        }
      ]
    },
    {
      "cell_type": "code",
      "metadata": {
        "id": "OYhq5spbi71B",
        "colab_type": "code",
        "colab": {
          "base_uri": "https://localhost:8080/",
          "height": 66,
          "referenced_widgets": [
            "41f5d00d342a4b87bad2ac711bb2fc2b",
            "36791bd8ac014a0687f531e9eb2534f6",
            "cfb2a38978144fc6b9ad0281b5126042",
            "77ad8e2f611241c597dd54ec0ecfb175",
            "04b926e27d8749d999f658302383ab1f",
            "78bcfd387ec34bd69a88aff7646c5771",
            "a8aeebc7588347769342850b454c04ce",
            "e951878981354b5aa6abc241d574ed68"
          ]
        },
        "outputId": "2b85128f-caab-4c8a-f56c-628ae47825c1"
      },
      "source": [
        "from tqdm.autonotebook import tqdm\n",
        "\n",
        "model = nn.Sequential(nn.Linear(3072, 1000),\n",
        "                      nn.ReLU(),\n",
        "                      nn.Dropout2d(),\n",
        "                      nn.Linear(1000, 600),\n",
        "                      nn.ReLU(),\n",
        "                      nn.Linear(600, 200),\n",
        "                      nn.ReLU(),\n",
        "                      nn.Dropout2d(),\n",
        "                      nn.Linear(200, 50),\n",
        "                      nn.ReLU(),\n",
        "                      nn.Linear(50, 2),\n",
        "                      nn.Softmax())\n",
        "\n",
        "\n",
        "model.to(device ='cuda')\n",
        "criterion = nn.CrossEntropyLoss()\n",
        "learning_rate = .001\n",
        "reg = 0.02\n",
        "# optimizer = optim.SGD(model.parameters(), lr=learning_rate)\n",
        "optimizer = torch.optim.Adam(model.parameters(), lr=learning_rate, weight_decay=reg)\n",
        "# print(model, X_pt.shape, Y_pt.shape,X_pt)\n",
        "num_epochs = 40\n",
        "total_loss = 0.0\n",
        "for _ in tqdm(range(num_epochs)):\n",
        "    for X, Y in train_dataset:\n",
        "        X=X.view(64,3072)\n",
        "        optimizer.zero_grad()\n",
        "        predictions = model(X.to(device='cuda'))\n",
        "        loss_this_epoch = criterion(predictions, Y.to(device='cuda'))\n",
        "        loss_this_epoch.backward()\n",
        "        optimizer.step()\n",
        "        total_loss += loss_this_epoch.item()\n",
        "\n",
        "    # print(total_loss)\n",
        "    total_loss = 0.0\n",
        "\n",
        "\n"
      ],
      "execution_count": 27,
      "outputs": [
        {
          "output_type": "display_data",
          "data": {
            "application/vnd.jupyter.widget-view+json": {
              "model_id": "41f5d00d342a4b87bad2ac711bb2fc2b",
              "version_minor": 0,
              "version_major": 2
            },
            "text/plain": [
              "HBox(children=(IntProgress(value=0, max=40), HTML(value='')))"
            ]
          },
          "metadata": {
            "tags": []
          }
        },
        {
          "output_type": "stream",
          "text": [
            "\n"
          ],
          "name": "stdout"
        }
      ]
    },
    {
      "cell_type": "code",
      "metadata": {
        "id": "QRPDPYRSi9ua",
        "colab_type": "code",
        "colab": {
          "base_uri": "https://localhost:8080/",
          "height": 84,
          "referenced_widgets": [
            "7c9ec0346444481e8d754fb6c99628b1",
            "0e636a619e574d13b8a38a3b221a189b",
            "fb173aac84b448cba98ed23ac2b57e84",
            "62dade708de54f8eae5b382a7cb81fcb",
            "0384ebf3638d470fb6675cf087484891",
            "93c614ee97774baf8fa33f7a6df1f755",
            "57dfa5cda5614de09c95b014f9bfada6",
            "d8892ae1145d4922b448bdb8f33fbd39"
          ]
        },
        "outputId": "30fa8080-752e-4e82-bb05-d536256f9da6"
      },
      "source": [
        "correct = 0\n",
        "total = 0\n",
        "use_cuda = torch.cuda.is_available()\n",
        "device = torch.device('cpu')\n",
        "\n",
        "model.eval()\n",
        "with torch.no_grad():\n",
        "    for data in tqdm(test_dataset):\n",
        "        images, labels = data\n",
        "        images = images.to(device='cuda') \n",
        "        labels = labels.to(device='cuda')\n",
        "        images = images.view(images.shape[0],3072)\n",
        "        outputs = model(images)\n",
        "        predicted = torch.argmax(outputs, 1)\n",
        "        total += labels.size(0)\n",
        "        correct += (predicted == labels).sum().item()\n",
        "\n",
        "print('Accuracy of the network on the 10000 test images: %d %%' % (\n",
        "    100 * correct / total))"
      ],
      "execution_count": 30,
      "outputs": [
        {
          "output_type": "display_data",
          "data": {
            "application/vnd.jupyter.widget-view+json": {
              "model_id": "7c9ec0346444481e8d754fb6c99628b1",
              "version_minor": 0,
              "version_major": 2
            },
            "text/plain": [
              "HBox(children=(IntProgress(value=0, max=2), HTML(value='')))"
            ]
          },
          "metadata": {
            "tags": []
          }
        },
        {
          "output_type": "stream",
          "text": [
            "\n",
            "Accuracy of the network on the 10000 test images: 80 %\n"
          ],
          "name": "stdout"
        }
      ]
    }
  ]
}